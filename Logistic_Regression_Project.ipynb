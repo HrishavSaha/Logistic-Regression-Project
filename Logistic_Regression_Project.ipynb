{
  "nbformat": 4,
  "nbformat_minor": 0,
  "metadata": {
    "colab": {
      "name": "Logistic Regression - Project",
      "provenance": [],
      "collapsed_sections": [],
      "authorship_tag": "ABX9TyOBEOU9qoNgpKWOeBlQzio6",
      "include_colab_link": true
    },
    "kernelspec": {
      "name": "python3",
      "display_name": "Python 3"
    },
    "language_info": {
      "name": "python"
    }
  },
  "cells": [
    {
      "cell_type": "markdown",
      "metadata": {
        "id": "view-in-github",
        "colab_type": "text"
      },
      "source": [
        "<a href=\"https://colab.research.google.com/github/HrishavSaha/Logistic-Regression-Project/blob/main/Logistic_Regression_Project.ipynb\" target=\"_parent\"><img src=\"https://colab.research.google.com/assets/colab-badge.svg\" alt=\"Open In Colab\"/></a>"
      ]
    },
    {
      "cell_type": "markdown",
      "source": [
        "Imports:"
      ],
      "metadata": {
        "id": "EAvEC6s02BGr"
      }
    },
    {
      "cell_type": "code",
      "execution_count": null,
      "metadata": {
        "id": "WirevL_Ry5GH"
      },
      "outputs": [],
      "source": [
        "from google.colab import files\n",
        "files.upload()"
      ]
    },
    {
      "cell_type": "code",
      "source": [
        "import math\n",
        "import pandas as pd\n",
        "import matplotlib.pyplot as plt\n",
        "import numpy as np\n",
        "import statistics as st\n",
        "from sklearn.linear_model import LogisticRegression\n",
        "from google.colab import output"
      ],
      "metadata": {
        "id": "GcU1ltBQzBh5"
      },
      "execution_count": 14,
      "outputs": []
    },
    {
      "cell_type": "markdown",
      "source": [
        "Pandas Data Management:"
      ],
      "metadata": {
        "id": "AF1S1NuY2DdB"
      }
    },
    {
      "cell_type": "code",
      "source": [
        "df = pd.read_csv('escape_velocity.csv')\n",
        "vel = df['Velocity'].tolist()\n",
        "esc = df['Escaped'].tolist()"
      ],
      "metadata": {
        "id": "PBf2CQ0n0cu4"
      },
      "execution_count": 3,
      "outputs": []
    },
    {
      "cell_type": "markdown",
      "source": [
        "Initial Plot:"
      ],
      "metadata": {
        "id": "cuRluY6q2Ibq"
      }
    },
    {
      "cell_type": "code",
      "source": [
        "plt.figure()\n",
        "plt.axhline(y=0, color='k')\n",
        "plt.axhline(y=1, color='k')\n",
        "plt.axhline(y=0.5, color='k', linestyle='--')\n",
        "plt.scatter(vel, esc, color='black')\n",
        "plt.ylabel('Escaped')\n",
        "plt.xlabel('Velocity')\n",
        "plt.show()"
      ],
      "metadata": {
        "colab": {
          "base_uri": "https://localhost:8080/",
          "height": 279
        },
        "id": "IDFipJor0sWI",
        "outputId": "26b93a4a-65aa-461d-fba7-acbcb0aab2fd"
      },
      "execution_count": 4,
      "outputs": [
        {
          "output_type": "display_data",
          "data": {
            "text/plain": [
              "<Figure size 432x288 with 1 Axes>"
            ],
            "image/png": "[encoded data removed]"
          },
          "metadata": {
            "needs_background": "light"
          }
        }
      ]
    },
    {
      "cell_type": "markdown",
      "source": [
        "Logistic Regression:"
      ],
      "metadata": {
        "id": "s4hFk3v8AZnm"
      }
    },
    {
      "cell_type": "code",
      "source": [
        "#Data Prep\n",
        "X = np.reshape(vel, (len(vel), 1))\n",
        "Y = np.reshape(esc, (len(esc), 1))\n",
        "#Calculating best-fit Linear Regression values\n",
        "lr = LogisticRegression().fit(X,Y)"
      ],
      "metadata": {
        "colab": {
          "base_uri": "https://localhost:8080/"
        },
        "id": "eAHQ_7zILXdp",
        "outputId": "091c4ae7-1d54-4af2-86c7-1f43eb8bdd45"
      },
      "execution_count": 5,
      "outputs": [
        {
          "output_type": "stream",
          "name": "stderr",
          "text": [
            "/usr/local/lib/python3.7/dist-packages/sklearn/utils/validation.py:993: DataConversionWarning: A column-vector y was passed when a 1d array was expected. Please change the shape of y to (n_samples, ), for example using ravel().\n",
            "  y = column_or_1d(y, warn=True)\n"
          ]
        }
      ]
    },
    {
      "cell_type": "code",
      "source": [
        "#Sigmoid Function\n",
        "def sigfunc(x):\n",
        "  val = 1/(1+np.exp(-x))\n",
        "  return val"
      ],
      "metadata": {
        "id": "piTUKZsNMxiY"
      },
      "execution_count": 6,
      "outputs": []
    },
    {
      "cell_type": "code",
      "source": [
        "#Creating dataset and calculating the sigmoid value\n",
        "res = int(input('Resolution of sigmoid curve(preferably above 500): '))\n",
        "x_arr = np.linspace(math.floor(min(vel)), math.ceil(max(vel)), res)\n",
        "lr_x = (lr.coef_ * x_arr) + lr.intercept_\n",
        "y_arr = sigfunc(lr_x).ravel()\n",
        "\n",
        "#Locating nearest X Value for Y = 0.5\n",
        "diff_arr = []\n",
        "for i in range(len(x_arr)):\n",
        "  diff = abs(0.5 - y_arr[i])\n",
        "  diff_arr.append(diff)\n",
        "X_5 = diff_arr.index(min(diff_arr))\n",
        "print(X_5)"
      ],
      "metadata": {
        "colab": {
          "base_uri": "https://localhost:8080/"
        },
        "id": "jNijSx_PNE2Q",
        "outputId": "9ab14548-7176-4e5e-c069-0600698bb5d9"
      },
      "execution_count": 7,
      "outputs": [
        {
          "output_type": "stream",
          "name": "stdout",
          "text": [
            "Resolution of sigmoid curve(preferably above 500): 10000\n",
            "5664\n"
          ]
        }
      ]
    },
    {
      "cell_type": "markdown",
      "source": [
        "Plot with Sigmoid Curve:"
      ],
      "metadata": {
        "id": "xj-eZqk1QfdI"
      }
    },
    {
      "cell_type": "code",
      "source": [
        "plt.figure()\n",
        "plt.scatter(vel, esc, color='black')\n",
        "plt.plot(x_arr, y_arr, color='red', linewidth=2)\n",
        "plt.axhline(y=0, color='k')\n",
        "plt.axhline(y=1, color='k')\n",
        "plt.axhline(y=0.5, color='k', linestyle='--')\n",
        "plt.axvline(x=x_arr[X_5], color='b', linestyle='--')\n",
        "plt.ylabel('Escaped')\n",
        "plt.xlabel('Velocity')\n",
        "plt.xlim(math.floor(min(vel)), math.ceil(max(vel)))\n",
        "plt.show()"
      ],
      "metadata": {
        "colab": {
          "base_uri": "https://localhost:8080/",
          "height": 279
        },
        "id": "LfGe9j9tQeiL",
        "outputId": "28c09994-f74e-44a6-dedb-059b2c994acb"
      },
      "execution_count": 8,
      "outputs": [
        {
          "output_type": "display_data",
          "data": {
            "text/plain": [
              "<Figure size 432x288 with 1 Axes>"
            ],
            "image/png": "[encoded data removed]"
          },
          "metadata": {
            "needs_background": "light"
          }
        }
      ]
    },
    {
      "cell_type": "markdown",
      "source": [
        "Logistic Regressional Binary Predictor:"
      ],
      "metadata": {
        "id": "9B1ksrWXWvhT"
      }
    },
    {
      "cell_type": "code",
      "source": [
        "threshold = 0.5\n",
        "\n",
        "while True:\n",
        "  user_val = input(\"Input: \")\n",
        "\n",
        "  if user_val == 'clear':\n",
        "    output.clear()\n",
        "  elif user_val == 'exit':\n",
        "    break\n",
        "  else:\n",
        "    val = float(user_val)\n",
        "    bin = sigfunc(val*lr.coef_+lr.intercept_).ravel()[0]\n",
        "\n",
        "    if bin < threshold:\n",
        "      print('Not Escaped')\n",
        "      print('Binary: 0')\n",
        "    else:\n",
        "      print('Escaped')\n",
        "      print('Binary: 1')\n",
        "  print('\\n')"
      ],
      "metadata": {
        "colab": {
          "base_uri": "https://localhost:8080/"
        },
        "id": "q6l_wAqQW22L",
        "outputId": "5268f2df-a93f-4205-d21b-e828b3fc7e35"
      },
      "execution_count": 17,
      "outputs": [
        {
          "name": "stdout",
          "output_type": "stream",
          "text": [
            "Input: 13\n",
            "Escaped\n",
            "Binary: 1\n",
            "\n",
            "\n",
            "Input: 25\n",
            "Escaped\n",
            "Binary: 1\n",
            "\n",
            "\n",
            "Input: exit\n"
          ]
        }
      ]
    }
  ]
}